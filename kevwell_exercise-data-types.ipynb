{
 "cells": [
  {
   "cell_type": "markdown",
   "id": "16849249",
   "metadata": {
    "papermill": {
     "duration": 0.024959,
     "end_time": "2022-05-24T17:48:37.449144",
     "exception": false,
     "start_time": "2022-05-24T17:48:37.424185",
     "status": "completed"
    },
    "tags": []
   },
   "source": [
    "**This notebook is an exercise in the [Intro to Programming](https://www.kaggle.com/learn/intro-to-programming) course.  You can reference the tutorial at [this link](https://www.kaggle.com/alexisbcook/data-types).**\n",
    "\n",
    "---\n"
   ]
  },
  {
   "cell_type": "markdown",
   "id": "9e0cf1cf",
   "metadata": {
    "papermill": {
     "duration": 0.023263,
     "end_time": "2022-05-24T17:48:37.496074",
     "exception": false,
     "start_time": "2022-05-24T17:48:37.472811",
     "status": "completed"
    },
    "tags": []
   },
   "source": [
    "In the tutorial, you learned about four different data types: floats, integers, strings, and booleans.  In this exercise, you'll experiment with them.\n",
    "\n",
    "# Set up the notebook\n",
    "\n",
    "Run the next code cell without changes to set up the notebook."
   ]
  },
  {
   "cell_type": "code",
   "execution_count": 1,
   "id": "c4b83bda",
   "metadata": {
    "execution": {
     "iopub.execute_input": "2022-05-24T17:48:37.545001Z",
     "iopub.status.busy": "2022-05-24T17:48:37.544442Z",
     "iopub.status.idle": "2022-05-24T17:48:37.587887Z",
     "shell.execute_reply": "2022-05-24T17:48:37.587007Z"
    },
    "papermill": {
     "duration": 0.071183,
     "end_time": "2022-05-24T17:48:37.590768",
     "exception": false,
     "start_time": "2022-05-24T17:48:37.519585",
     "status": "completed"
    },
    "tags": []
   },
   "outputs": [
    {
     "name": "stdout",
     "output_type": "stream",
     "text": [
      "Setup complete.\n"
     ]
    }
   ],
   "source": [
    "# Set up the exercise\n",
    "from learntools.core import binder\n",
    "binder.bind(globals())\n",
    "from learntools.intro_to_programming.ex3 import *\n",
    "print('Setup complete.')"
   ]
  },
  {
   "cell_type": "markdown",
   "id": "f329f4b1",
   "metadata": {
    "papermill": {
     "duration": 0.024007,
     "end_time": "2022-05-24T17:48:37.639882",
     "exception": false,
     "start_time": "2022-05-24T17:48:37.615875",
     "status": "completed"
    },
    "tags": []
   },
   "source": [
    "# Question 1\n",
    "\n",
    "You have seen how to convert a float to an integer with the `int` function.  Try this out yourself by running the code cell below."
   ]
  },
  {
   "cell_type": "code",
   "execution_count": 2,
   "id": "7561cb74",
   "metadata": {
    "execution": {
     "iopub.execute_input": "2022-05-24T17:48:37.689125Z",
     "iopub.status.busy": "2022-05-24T17:48:37.688859Z",
     "iopub.status.idle": "2022-05-24T17:48:37.694385Z",
     "shell.execute_reply": "2022-05-24T17:48:37.693754Z"
    },
    "papermill": {
     "duration": 0.032622,
     "end_time": "2022-05-24T17:48:37.696393",
     "exception": false,
     "start_time": "2022-05-24T17:48:37.663771",
     "status": "completed"
    },
    "tags": []
   },
   "outputs": [
    {
     "name": "stdout",
     "output_type": "stream",
     "text": [
      "1.0\n",
      "<class 'float'>\n",
      "1\n",
      "<class 'int'>\n"
     ]
    }
   ],
   "source": [
    "# Define a float\n",
    "y = 1.\n",
    "print(y)\n",
    "print(type(y))\n",
    "\n",
    "# Convert float to integer with the int function\n",
    "z = int(y)\n",
    "print(z)\n",
    "print(type(z))"
   ]
  },
  {
   "cell_type": "markdown",
   "id": "a9ab6e9a",
   "metadata": {
    "papermill": {
     "duration": 0.023906,
     "end_time": "2022-05-24T17:48:37.744552",
     "exception": false,
     "start_time": "2022-05-24T17:48:37.720646",
     "status": "completed"
    },
    "tags": []
   },
   "source": [
    "In this case, the float you are using has no numbers after the decimal.  \n",
    "- But what happens when you try to convert a float with a fractional part to an integer?  \n",
    "- How does the outcome of the `int` function change for positive and negative numbers?\n",
    "\n",
    "Use the next code cell to investigate and answer these questions.  Feel free to add or remove any lines of code -- it is your workspace!"
   ]
  },
  {
   "cell_type": "code",
   "execution_count": 3,
   "id": "2b81f9f7",
   "metadata": {
    "execution": {
     "iopub.execute_input": "2022-05-24T17:48:37.796416Z",
     "iopub.status.busy": "2022-05-24T17:48:37.795562Z",
     "iopub.status.idle": "2022-05-24T17:48:37.801195Z",
     "shell.execute_reply": "2022-05-24T17:48:37.800249Z"
    },
    "papermill": {
     "duration": 0.034041,
     "end_time": "2022-05-24T17:48:37.803180",
     "exception": false,
     "start_time": "2022-05-24T17:48:37.769139",
     "status": "completed"
    },
    "tags": []
   },
   "outputs": [
    {
     "name": "stdout",
     "output_type": "stream",
     "text": [
      "1\n",
      "1\n",
      "-3\n",
      "-2\n"
     ]
    }
   ],
   "source": [
    "# Uncomment and run this code to get started!\n",
    "print(int(1.2321))\n",
    "print(int(1.747))\n",
    "print(int(-3.94535))\n",
    "print(int(-2.19774))"
   ]
  },
  {
   "cell_type": "markdown",
   "id": "70864b14",
   "metadata": {
    "papermill": {
     "duration": 0.026338,
     "end_time": "2022-05-24T17:48:37.854467",
     "exception": false,
     "start_time": "2022-05-24T17:48:37.828129",
     "status": "completed"
    },
    "tags": []
   },
   "source": [
    "Once you have an answer, run the code cell below to see the solution.  Viewing the solution will give you credit for answering the problem."
   ]
  },
  {
   "cell_type": "code",
   "execution_count": 4,
   "id": "4b58b213",
   "metadata": {
    "execution": {
     "iopub.execute_input": "2022-05-24T17:48:37.906249Z",
     "iopub.status.busy": "2022-05-24T17:48:37.905973Z",
     "iopub.status.idle": "2022-05-24T17:48:37.915574Z",
     "shell.execute_reply": "2022-05-24T17:48:37.914749Z"
    },
    "papermill": {
     "duration": 0.038754,
     "end_time": "2022-05-24T17:48:37.917959",
     "exception": false,
     "start_time": "2022-05-24T17:48:37.879205",
     "status": "completed"
    },
    "tags": []
   },
   "outputs": [
    {
     "data": {
      "application/javascript": [
       "parent.postMessage({\"jupyterEvent\": \"custom.exercise_interaction\", \"data\": {\"outcomeType\": 1, \"valueTowardsCompletion\": 0.2, \"interactionType\": 1, \"questionType\": 4, \"questionId\": \"1_FloatToInt\", \"learnToolsVersion\": \"0.3.4\", \"failureMessage\": \"\", \"exceptionClass\": \"\", \"trace\": \"\"}}, \"*\")"
      ],
      "text/plain": [
       "<IPython.core.display.Javascript object>"
      ]
     },
     "metadata": {},
     "output_type": "display_data"
    },
    {
     "data": {
      "text/markdown": [
       "<span style=\"color:#33cc33\">Correct:</span> \n",
       "\n",
       "Negative floats are always rounded UP to the closest integer (for instance, both -1.1 and -1.9 are rounded up to -1). Positive floats are always rounded DOWN to the closest integer (for instance, 2.1 and 2.9 are rounded down to 2)."
      ],
      "text/plain": [
       "Correct: \n",
       "\n",
       "Negative floats are always rounded UP to the closest integer (for instance, both -1.1 and -1.9 are rounded up to -1). Positive floats are always rounded DOWN to the closest integer (for instance, 2.1 and 2.9 are rounded down to 2)."
      ]
     },
     "metadata": {},
     "output_type": "display_data"
    }
   ],
   "source": [
    "# Check your answer (Run this code cell to receive credit!)\n",
    "q1.check()"
   ]
  },
  {
   "cell_type": "markdown",
   "id": "41e21afa",
   "metadata": {
    "papermill": {
     "duration": 0.025671,
     "end_time": "2022-05-24T17:48:37.969800",
     "exception": false,
     "start_time": "2022-05-24T17:48:37.944129",
     "status": "completed"
    },
    "tags": []
   },
   "source": [
    "# Question 2\n",
    "\n",
    "In the tutorial, you learned about booleans (which can take a value of `True` or `False`), in addition to integers, floats, and strings.  For this question, your goal is to determine what happens when you multiply a boolean by any of these data types.  Specifically, \n",
    "- What happens when you multiply an integer or float by `True`?  What happens when you multiply them by `False`?  How does the answer change if the numbers are positive or negative?\n",
    "- What happens when you multiply a string by `True`?  By `False`?\n",
    "\n",
    "Use the next code cell for your investigation. "
   ]
  },
  {
   "cell_type": "code",
   "execution_count": 5,
   "id": "14c8e6a7",
   "metadata": {
    "execution": {
     "iopub.execute_input": "2022-05-24T17:48:38.024108Z",
     "iopub.status.busy": "2022-05-24T17:48:38.023648Z",
     "iopub.status.idle": "2022-05-24T17:48:38.030172Z",
     "shell.execute_reply": "2022-05-24T17:48:38.028932Z"
    },
    "papermill": {
     "duration": 0.036266,
     "end_time": "2022-05-24T17:48:38.032196",
     "exception": false,
     "start_time": "2022-05-24T17:48:37.995930",
     "status": "completed"
    },
    "tags": []
   },
   "outputs": [
    {
     "name": "stdout",
     "output_type": "stream",
     "text": [
      "3\n",
      "-3.1\n",
      "<class 'str'>\n",
      "0\n"
     ]
    }
   ],
   "source": [
    "# Uncomment and run this code to get started!\n",
    "print(3 * True)\n",
    "print(-3.1 * True)\n",
    "print(type(\"abc\" * False))\n",
    "print(len(\"abc\" * False))"
   ]
  },
  {
   "cell_type": "markdown",
   "id": "2981c586",
   "metadata": {
    "papermill": {
     "duration": 0.026352,
     "end_time": "2022-05-24T17:48:38.085021",
     "exception": false,
     "start_time": "2022-05-24T17:48:38.058669",
     "status": "completed"
    },
    "tags": []
   },
   "source": [
    "Once you have an answer, run the code cell below to see the solution.  Viewing the solution will give you credit for answering the problem."
   ]
  },
  {
   "cell_type": "code",
   "execution_count": 6,
   "id": "eb90b94a",
   "metadata": {
    "execution": {
     "iopub.execute_input": "2022-05-24T17:48:38.139142Z",
     "iopub.status.busy": "2022-05-24T17:48:38.138861Z",
     "iopub.status.idle": "2022-05-24T17:48:38.146073Z",
     "shell.execute_reply": "2022-05-24T17:48:38.145089Z"
    },
    "papermill": {
     "duration": 0.036732,
     "end_time": "2022-05-24T17:48:38.148061",
     "exception": false,
     "start_time": "2022-05-24T17:48:38.111329",
     "status": "completed"
    },
    "tags": []
   },
   "outputs": [
    {
     "data": {
      "application/javascript": [
       "parent.postMessage({\"jupyterEvent\": \"custom.exercise_interaction\", \"data\": {\"outcomeType\": 1, \"valueTowardsCompletion\": 0.2, \"interactionType\": 1, \"questionType\": 4, \"questionId\": \"2_MultiplyBooleans\", \"learnToolsVersion\": \"0.3.4\", \"failureMessage\": \"\", \"exceptionClass\": \"\", \"trace\": \"\"}}, \"*\")"
      ],
      "text/plain": [
       "<IPython.core.display.Javascript object>"
      ]
     },
     "metadata": {},
     "output_type": "display_data"
    },
    {
     "data": {
      "text/markdown": [
       "<span style=\"color:#33cc33\">Correct:</span> \n",
       "\n",
       "When you multiple an integer or float by a boolean with value `True`, it just returns that same integer or float (and is equivalent to multiplying by 1).  If you multiply an integer or float by a boolean with value `False`, it always returns 0.  This is true for both positive and negative numbers.  If you multiply a string by a boolean with value `True`, it just returns that same string.  And if you multiply a string by a boolean with value `False`, it returns an empty string (or a string with length zero)."
      ],
      "text/plain": [
       "Correct: \n",
       "\n",
       "When you multiple an integer or float by a boolean with value `True`, it just returns that same integer or float (and is equivalent to multiplying by 1).  If you multiply an integer or float by a boolean with value `False`, it always returns 0.  This is true for both positive and negative numbers.  If you multiply a string by a boolean with value `True`, it just returns that same string.  And if you multiply a string by a boolean with value `False`, it returns an empty string (or a string with length zero)."
      ]
     },
     "metadata": {},
     "output_type": "display_data"
    }
   ],
   "source": [
    "# Check your answer (Run this code cell to receive credit!)\n",
    "q2.check()"
   ]
  },
  {
   "cell_type": "markdown",
   "id": "538a5acf",
   "metadata": {
    "papermill": {
     "duration": 0.027254,
     "end_time": "2022-05-24T17:48:38.202901",
     "exception": false,
     "start_time": "2022-05-24T17:48:38.175647",
     "status": "completed"
    },
    "tags": []
   },
   "source": [
    "# Question 3\n",
    "\n",
    "In this question, you will build off your work from the previous exercise to write a function that estimates the value of a house.\n",
    "\n",
    "Use the next code cell to create a function `get_expected_cost` that takes as input three variables:\n",
    "- `beds` - number of bedrooms (data type float)\n",
    "- `baths` - number of bathrooms (data type float)\n",
    "- `has_basement` - whether or not the house has a basement (data type boolean)\n",
    "\n",
    "It should return the expected cost of a house with those characteristics. Assume that:\n",
    "- the expected cost for a house with 0 bedrooms and 0 bathrooms, and no basement is 80000, \n",
    "- each bedroom adds 30000 to the expected cost,\n",
    "- each bathroom adds 10000 to the expected cost, and\n",
    "- a basement adds 40000 to the expected cost.\n",
    "\n",
    "For instance,\n",
    "- a house with 1 bedroom, 1 bathroom, and no basement has an expected cost of 80000 + 30000 + 10000 = 120000.  This value will be calculated with `get_expected_cost(1, 1, False)`.\n",
    "- a house with 2 bedrooms, 1 bathroom, and a basement has an expected cost of 80000 + 2*30000 + 10000 + 40000 = 190000.  This value will be calculated with `get_expected_cost(2, 1, True)`.\n",
    "\n",
    "Remember you can always get a hint by uncommenting `q3.hint()` in the code cell following the next!"
   ]
  },
  {
   "cell_type": "code",
   "execution_count": 7,
   "id": "9802e093",
   "metadata": {
    "execution": {
     "iopub.execute_input": "2022-05-24T17:48:38.259960Z",
     "iopub.status.busy": "2022-05-24T17:48:38.259655Z",
     "iopub.status.idle": "2022-05-24T17:48:38.268090Z",
     "shell.execute_reply": "2022-05-24T17:48:38.267533Z"
    },
    "papermill": {
     "duration": 0.039595,
     "end_time": "2022-05-24T17:48:38.270081",
     "exception": false,
     "start_time": "2022-05-24T17:48:38.230486",
     "status": "completed"
    },
    "tags": []
   },
   "outputs": [
    {
     "data": {
      "application/javascript": [
       "parent.postMessage({\"jupyterEvent\": \"custom.exercise_interaction\", \"data\": {\"outcomeType\": 1, \"valueTowardsCompletion\": 0.2, \"interactionType\": 1, \"questionType\": 2, \"questionId\": \"3_EstimateHouseValueBool\", \"learnToolsVersion\": \"0.3.4\", \"failureMessage\": \"\", \"exceptionClass\": \"\", \"trace\": \"\"}}, \"*\")"
      ],
      "text/plain": [
       "<IPython.core.display.Javascript object>"
      ]
     },
     "metadata": {},
     "output_type": "display_data"
    },
    {
     "data": {
      "text/markdown": [
       "<span style=\"color:#33cc33\">Correct</span>"
      ],
      "text/plain": [
       "Correct"
      ]
     },
     "metadata": {},
     "output_type": "display_data"
    }
   ],
   "source": [
    "# TODO: Complete the function\n",
    "def get_expected_cost(beds, baths, has_basement):\n",
    "    value = 80000 + 30000 * beds + 10000 * baths + 40000 * has_basement\n",
    "    return value\n",
    "\n",
    "# Check your answer \n",
    "q3.check()"
   ]
  },
  {
   "cell_type": "code",
   "execution_count": 8,
   "id": "8e186a74",
   "metadata": {
    "execution": {
     "iopub.execute_input": "2022-05-24T17:48:38.329935Z",
     "iopub.status.busy": "2022-05-24T17:48:38.329630Z",
     "iopub.status.idle": "2022-05-24T17:48:38.333227Z",
     "shell.execute_reply": "2022-05-24T17:48:38.332385Z"
    },
    "papermill": {
     "duration": 0.035495,
     "end_time": "2022-05-24T17:48:38.335222",
     "exception": false,
     "start_time": "2022-05-24T17:48:38.299727",
     "status": "completed"
    },
    "tags": []
   },
   "outputs": [],
   "source": [
    "# Uncomment to see a hint\n",
    "#q3.hint()\n",
    "\n",
    "# Uncomment to view the solution\n",
    "#q3.solution()"
   ]
  },
  {
   "cell_type": "markdown",
   "id": "0b4325fd",
   "metadata": {
    "papermill": {
     "duration": 0.028467,
     "end_time": "2022-05-24T17:48:38.392533",
     "exception": false,
     "start_time": "2022-05-24T17:48:38.364066",
     "status": "completed"
    },
    "tags": []
   },
   "source": [
    "# Question 4\n",
    "\n",
    "We'll continue our study of boolean arithmetic.  For this question, your task is to provide a description of what happpens when you add booleans. \n",
    "\n",
    "Use the next code cell for your investigation.  Feel free to add or remove any lines of code - use it as your workspace!"
   ]
  },
  {
   "cell_type": "code",
   "execution_count": 9,
   "id": "8611a666",
   "metadata": {
    "execution": {
     "iopub.execute_input": "2022-05-24T17:48:38.452037Z",
     "iopub.status.busy": "2022-05-24T17:48:38.451732Z",
     "iopub.status.idle": "2022-05-24T17:48:38.457173Z",
     "shell.execute_reply": "2022-05-24T17:48:38.456546Z"
    },
    "papermill": {
     "duration": 0.037775,
     "end_time": "2022-05-24T17:48:38.459235",
     "exception": false,
     "start_time": "2022-05-24T17:48:38.421460",
     "status": "completed"
    },
    "tags": []
   },
   "outputs": [
    {
     "name": "stdout",
     "output_type": "stream",
     "text": [
      "0\n",
      "1\n",
      "1\n",
      "2\n",
      "3\n"
     ]
    }
   ],
   "source": [
    "print(False + False)\n",
    "print(True + False)\n",
    "print(False + True)\n",
    "print(True + True)\n",
    "print(False + True + True + True)"
   ]
  },
  {
   "cell_type": "markdown",
   "id": "98c5e701",
   "metadata": {
    "papermill": {
     "duration": 0.028732,
     "end_time": "2022-05-24T17:48:38.517082",
     "exception": false,
     "start_time": "2022-05-24T17:48:38.488350",
     "status": "completed"
    },
    "tags": []
   },
   "source": [
    "Once you have an answer, run the code cell below to see the solution.  Viewing the solution will give you credit for answering the problem."
   ]
  },
  {
   "cell_type": "code",
   "execution_count": 10,
   "id": "26047b29",
   "metadata": {
    "execution": {
     "iopub.execute_input": "2022-05-24T17:48:38.576715Z",
     "iopub.status.busy": "2022-05-24T17:48:38.576388Z",
     "iopub.status.idle": "2022-05-24T17:48:38.583785Z",
     "shell.execute_reply": "2022-05-24T17:48:38.582957Z"
    },
    "papermill": {
     "duration": 0.039815,
     "end_time": "2022-05-24T17:48:38.585870",
     "exception": false,
     "start_time": "2022-05-24T17:48:38.546055",
     "status": "completed"
    },
    "tags": []
   },
   "outputs": [
    {
     "data": {
      "application/javascript": [
       "parent.postMessage({\"jupyterEvent\": \"custom.exercise_interaction\", \"data\": {\"outcomeType\": 1, \"valueTowardsCompletion\": 0.2, \"interactionType\": 1, \"questionType\": 4, \"questionId\": \"4_AddingBooleans\", \"learnToolsVersion\": \"0.3.4\", \"failureMessage\": \"\", \"exceptionClass\": \"\", \"trace\": \"\"}}, \"*\")"
      ],
      "text/plain": [
       "<IPython.core.display.Javascript object>"
      ]
     },
     "metadata": {},
     "output_type": "display_data"
    },
    {
     "data": {
      "text/markdown": [
       "<span style=\"color:#33cc33\">Correct:</span> \n",
       "\n",
       "When you add booleans, adding `False` is equivalent to adding 0, and adding `True` is equivalent to adding 1."
      ],
      "text/plain": [
       "Correct: \n",
       "\n",
       "When you add booleans, adding `False` is equivalent to adding 0, and adding `True` is equivalent to adding 1."
      ]
     },
     "metadata": {},
     "output_type": "display_data"
    }
   ],
   "source": [
    "# Check your answer (Run this code cell to receive credit!)\n",
    "q4.check()"
   ]
  },
  {
   "cell_type": "markdown",
   "id": "01605f08",
   "metadata": {
    "papermill": {
     "duration": 0.030018,
     "end_time": "2022-05-24T17:48:38.646486",
     "exception": false,
     "start_time": "2022-05-24T17:48:38.616468",
     "status": "completed"
    },
    "tags": []
   },
   "source": [
    "# 🌶️ Question 5\n",
    "\n",
    "You own an online shop where you sell rings with custom engravings.  You offer both gold plated and solid gold rings.\n",
    "- Gold plated rings have a base cost of \\\\$50, and you charge \\\\$7 per engraved unit.  \n",
    "- Solid gold rings have a base cost of \\\\$100, and you charge \\\\$10 per engraved unit.\n",
    "- Spaces and punctuation are counted as engraved units.\n",
    "\n",
    "Write a function `cost_of_project()` that takes two arguments:\n",
    "- `engraving` - a Python string with the text of the engraving\n",
    "- `solid_gold` - a Boolean that indicates whether the ring is solid gold\n",
    "\n",
    "It should return the cost of the project.  This question should be fairly challenging, and you may need a hint."
   ]
  },
  {
   "cell_type": "code",
   "execution_count": 11,
   "id": "3420af53",
   "metadata": {
    "execution": {
     "iopub.execute_input": "2022-05-24T17:48:38.708798Z",
     "iopub.status.busy": "2022-05-24T17:48:38.708362Z",
     "iopub.status.idle": "2022-05-24T17:48:38.716998Z",
     "shell.execute_reply": "2022-05-24T17:48:38.716218Z"
    },
    "papermill": {
     "duration": 0.041988,
     "end_time": "2022-05-24T17:48:38.718940",
     "exception": false,
     "start_time": "2022-05-24T17:48:38.676952",
     "status": "completed"
    },
    "tags": []
   },
   "outputs": [
    {
     "data": {
      "application/javascript": [
       "parent.postMessage({\"jupyterEvent\": \"custom.exercise_interaction\", \"data\": {\"outcomeType\": 1, \"valueTowardsCompletion\": 0.2, \"interactionType\": 1, \"questionType\": 2, \"questionId\": \"5_CustomEngravings\", \"learnToolsVersion\": \"0.3.4\", \"failureMessage\": \"\", \"exceptionClass\": \"\", \"trace\": \"\"}}, \"*\")"
      ],
      "text/plain": [
       "<IPython.core.display.Javascript object>"
      ]
     },
     "metadata": {},
     "output_type": "display_data"
    },
    {
     "data": {
      "text/markdown": [
       "<span style=\"color:#33cc33\">Correct</span>"
      ],
      "text/plain": [
       "Correct"
      ]
     },
     "metadata": {},
     "output_type": "display_data"
    }
   ],
   "source": [
    "def cost_of_project(engraving, solid_gold):\n",
    "    cost= solid_gold * (100 + 10 * len(engraving)) + (not solid_gold) * (50 + 7 * len(engraving))\n",
    "    return cost\n",
    "\n",
    "# Check your answer\n",
    "q5.check()"
   ]
  },
  {
   "cell_type": "code",
   "execution_count": 12,
   "id": "7f3e5bfd",
   "metadata": {
    "execution": {
     "iopub.execute_input": "2022-05-24T17:48:38.784663Z",
     "iopub.status.busy": "2022-05-24T17:48:38.784369Z",
     "iopub.status.idle": "2022-05-24T17:48:38.787471Z",
     "shell.execute_reply": "2022-05-24T17:48:38.786839Z"
    },
    "papermill": {
     "duration": 0.038608,
     "end_time": "2022-05-24T17:48:38.789305",
     "exception": false,
     "start_time": "2022-05-24T17:48:38.750697",
     "status": "completed"
    },
    "tags": []
   },
   "outputs": [],
   "source": [
    "# Uncomment to see a hint\n",
    "#q5.hint()\n",
    "\n",
    "# Uncomment to view the solution\n",
    "#q5.solution()"
   ]
  },
  {
   "cell_type": "markdown",
   "id": "07da5497",
   "metadata": {
    "papermill": {
     "duration": 0.032238,
     "end_time": "2022-05-24T17:48:38.853290",
     "exception": false,
     "start_time": "2022-05-24T17:48:38.821052",
     "status": "completed"
    },
    "tags": []
   },
   "source": [
    "Run the next code cell to calculate the cost of engraving `Charlie+Denver` on a solid gold ring."
   ]
  },
  {
   "cell_type": "code",
   "execution_count": 13,
   "id": "e9c6bb4d",
   "metadata": {
    "execution": {
     "iopub.execute_input": "2022-05-24T17:48:38.920409Z",
     "iopub.status.busy": "2022-05-24T17:48:38.920097Z",
     "iopub.status.idle": "2022-05-24T17:48:38.925244Z",
     "shell.execute_reply": "2022-05-24T17:48:38.924362Z"
    },
    "papermill": {
     "duration": 0.042833,
     "end_time": "2022-05-24T17:48:38.928125",
     "exception": false,
     "start_time": "2022-05-24T17:48:38.885292",
     "status": "completed"
    },
    "tags": []
   },
   "outputs": [
    {
     "name": "stdout",
     "output_type": "stream",
     "text": [
      "240\n"
     ]
    }
   ],
   "source": [
    "project_one = cost_of_project(\"Charlie+Denver\", True)\n",
    "print(project_one)"
   ]
  },
  {
   "cell_type": "markdown",
   "id": "16f3e6cf",
   "metadata": {
    "papermill": {
     "duration": 0.031814,
     "end_time": "2022-05-24T17:48:38.992196",
     "exception": false,
     "start_time": "2022-05-24T17:48:38.960382",
     "status": "completed"
    },
    "tags": []
   },
   "source": [
    "Use the next code cell to calculate the cost of engraving `08/10/2000` on a gold plated ring."
   ]
  },
  {
   "cell_type": "code",
   "execution_count": 14,
   "id": "8d281d21",
   "metadata": {
    "execution": {
     "iopub.execute_input": "2022-05-24T17:48:39.059320Z",
     "iopub.status.busy": "2022-05-24T17:48:39.059026Z",
     "iopub.status.idle": "2022-05-24T17:48:39.063489Z",
     "shell.execute_reply": "2022-05-24T17:48:39.062916Z"
    },
    "papermill": {
     "duration": 0.04082,
     "end_time": "2022-05-24T17:48:39.065658",
     "exception": false,
     "start_time": "2022-05-24T17:48:39.024838",
     "status": "completed"
    },
    "tags": []
   },
   "outputs": [
    {
     "name": "stdout",
     "output_type": "stream",
     "text": [
      "120\n"
     ]
    }
   ],
   "source": [
    "project_two = cost_of_project(\"08/10/2000\", False)\n",
    "print(project_two)"
   ]
  },
  {
   "cell_type": "markdown",
   "id": "d79b511e",
   "metadata": {
    "papermill": {
     "duration": 0.031932,
     "end_time": "2022-05-24T17:48:39.130697",
     "exception": false,
     "start_time": "2022-05-24T17:48:39.098765",
     "status": "completed"
    },
    "tags": []
   },
   "source": [
    "# Keep going\n",
    "\n",
    "Continue to the next lesson to **[learn about conditions and conditional statements](https://www.kaggle.com/alexisbcook/conditions-and-conditional-statements)**."
   ]
  },
  {
   "cell_type": "markdown",
   "id": "07e77de8",
   "metadata": {
    "papermill": {
     "duration": 0.031917,
     "end_time": "2022-05-24T17:48:39.195387",
     "exception": false,
     "start_time": "2022-05-24T17:48:39.163470",
     "status": "completed"
    },
    "tags": []
   },
   "source": [
    "---\n",
    "\n",
    "\n",
    "\n",
    "\n",
    "*Have questions or comments? Visit the [course discussion forum](https://www.kaggle.com/learn/intro-to-programming/discussion) to chat with other learners.*"
   ]
  }
 ],
 "metadata": {
  "kernelspec": {
   "display_name": "Python 3",
   "language": "python",
   "name": "python3"
  },
  "language_info": {
   "codemirror_mode": {
    "name": "ipython",
    "version": 3
   },
   "file_extension": ".py",
   "mimetype": "text/x-python",
   "name": "python",
   "nbconvert_exporter": "python",
   "pygments_lexer": "ipython3",
   "version": "3.7.12"
  },
  "papermill": {
   "default_parameters": {},
   "duration": 12.33629,
   "end_time": "2022-05-24T17:48:39.847244",
   "environment_variables": {},
   "exception": null,
   "input_path": "__notebook__.ipynb",
   "output_path": "__notebook__.ipynb",
   "parameters": {},
   "start_time": "2022-05-24T17:48:27.510954",
   "version": "2.3.4"
  }
 },
 "nbformat": 4,
 "nbformat_minor": 5
}
