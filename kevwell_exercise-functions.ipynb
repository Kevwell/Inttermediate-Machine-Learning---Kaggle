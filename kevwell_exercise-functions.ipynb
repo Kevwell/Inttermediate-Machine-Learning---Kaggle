{
 "cells": [
  {
   "cell_type": "markdown",
   "id": "fc907f39",
   "metadata": {
    "papermill": {
     "duration": 0.03348,
     "end_time": "2022-05-24T13:57:47.553315",
     "exception": false,
     "start_time": "2022-05-24T13:57:47.519835",
     "status": "completed"
    },
    "tags": []
   },
   "source": [
    "**This notebook is an exercise in the [Intro to Programming](https://www.kaggle.com/learn/intro-to-programming) course.  You can reference the tutorial at [this link](https://www.kaggle.com/alexisbcook/functions).**\n",
    "\n",
    "---\n"
   ]
  },
  {
   "cell_type": "markdown",
   "id": "ce602eda",
   "metadata": {
    "papermill": {
     "duration": 0.024426,
     "end_time": "2022-05-24T13:57:47.602073",
     "exception": false,
     "start_time": "2022-05-24T13:57:47.577647",
     "status": "completed"
    },
    "tags": []
   },
   "source": [
    "In the tutorial, you learned about functions. In this exercise, you'll write some of your own!\n",
    "\n",
    "# Set up the notebook\n",
    "\n",
    "Run the next code cell without changes to set up the notebook."
   ]
  },
  {
   "cell_type": "code",
   "execution_count": 1,
   "id": "73b9482f",
   "metadata": {
    "execution": {
     "iopub.execute_input": "2022-05-24T13:57:47.651671Z",
     "iopub.status.busy": "2022-05-24T13:57:47.651281Z",
     "iopub.status.idle": "2022-05-24T13:57:47.698379Z",
     "shell.execute_reply": "2022-05-24T13:57:47.697451Z"
    },
    "papermill": {
     "duration": 0.074635,
     "end_time": "2022-05-24T13:57:47.700758",
     "exception": false,
     "start_time": "2022-05-24T13:57:47.626123",
     "status": "completed"
    },
    "tags": []
   },
   "outputs": [
    {
     "name": "stdout",
     "output_type": "stream",
     "text": [
      "Setup complete.\n"
     ]
    }
   ],
   "source": [
    "# Set up the exercise\n",
    "import math\n",
    "from learntools.core import binder\n",
    "binder.bind(globals())\n",
    "from learntools.intro_to_programming.ex2 import *\n",
    "print('Setup complete.')"
   ]
  },
  {
   "cell_type": "markdown",
   "id": "39b90e49",
   "metadata": {
    "papermill": {
     "duration": 0.025137,
     "end_time": "2022-05-24T13:57:47.750586",
     "exception": false,
     "start_time": "2022-05-24T13:57:47.725449",
     "status": "completed"
    },
    "tags": []
   },
   "source": [
    "# Question 1\n",
    "\n",
    "In the [House Prices - Advanced Regression Techniques competition](https://www.kaggle.com/c/house-prices-advanced-regression-techniques/overview), you need to use information like the number of bedrooms and bathrooms to predict the price of a house.  Inspired by this competition, you'll write your own function to do this.\n",
    "\n",
    "In the next code cell, create a function `get_expected_cost()` that has two arguments:\n",
    "- `beds` - number of bedrooms \n",
    "- `baths` - number of bathrooms\n",
    "\n",
    "It should return the expected cost of a house with that number of bedrooms and bathrooms.  Assume that:\n",
    "- the expected cost for a house with 0 bedrooms and 0 bathrooms is `80000`.  \n",
    "- each bedroom adds `30000` to the expected cost\n",
    "- each bathroom adds `10000` to the expected cost.\n",
    "\n",
    "For instance, \n",
    "- a house with 1 bedroom and 1 bathroom has an expected cost of `120000`, and \n",
    "- a house with 2 bedrooms and 1 bathroom has an expected cost of `150000`."
   ]
  },
  {
   "cell_type": "code",
   "execution_count": 2,
   "id": "330ec07f",
   "metadata": {
    "execution": {
     "iopub.execute_input": "2022-05-24T13:57:47.801761Z",
     "iopub.status.busy": "2022-05-24T13:57:47.801327Z",
     "iopub.status.idle": "2022-05-24T13:57:47.811283Z",
     "shell.execute_reply": "2022-05-24T13:57:47.810536Z"
    },
    "papermill": {
     "duration": 0.03796,
     "end_time": "2022-05-24T13:57:47.813370",
     "exception": false,
     "start_time": "2022-05-24T13:57:47.775410",
     "status": "completed"
    },
    "tags": []
   },
   "outputs": [
    {
     "data": {
      "application/javascript": [
       "parent.postMessage({\"jupyterEvent\": \"custom.exercise_interaction\", \"data\": {\"outcomeType\": 1, \"valueTowardsCompletion\": 0.2, \"interactionType\": 1, \"questionType\": 2, \"questionId\": \"1_GetExpectedCost\", \"learnToolsVersion\": \"0.3.4\", \"failureMessage\": \"\", \"exceptionClass\": \"\", \"trace\": \"\"}}, \"*\")"
      ],
      "text/plain": [
       "<IPython.core.display.Javascript object>"
      ]
     },
     "metadata": {},
     "output_type": "display_data"
    },
    {
     "data": {
      "text/markdown": [
       "<span style=\"color:#33cc33\">Correct</span>"
      ],
      "text/plain": [
       "Correct"
      ]
     },
     "metadata": {},
     "output_type": "display_data"
    }
   ],
   "source": [
    "# TODO: Complete the function\n",
    "def get_expected_cost(beds, baths):\n",
    "    value = (80000) + (30000 * beds) + (10000 * baths)\n",
    "    return value\n",
    "\n",
    "# Check your answer \n",
    "q1.check()"
   ]
  },
  {
   "cell_type": "code",
   "execution_count": 3,
   "id": "6ac01cc7",
   "metadata": {
    "execution": {
     "iopub.execute_input": "2022-05-24T13:57:47.867605Z",
     "iopub.status.busy": "2022-05-24T13:57:47.867175Z",
     "iopub.status.idle": "2022-05-24T13:57:47.870268Z",
     "shell.execute_reply": "2022-05-24T13:57:47.869614Z"
    },
    "papermill": {
     "duration": 0.032496,
     "end_time": "2022-05-24T13:57:47.872256",
     "exception": false,
     "start_time": "2022-05-24T13:57:47.839760",
     "status": "completed"
    },
    "tags": []
   },
   "outputs": [],
   "source": [
    "# Uncomment to see a hint\n",
    "#q1.hint()\n",
    "\n",
    "# Uncomment to view the solution\n",
    "#q1.solution()"
   ]
  },
  {
   "cell_type": "markdown",
   "id": "f5e61c94",
   "metadata": {
    "papermill": {
     "duration": 0.025736,
     "end_time": "2022-05-24T13:57:47.925206",
     "exception": false,
     "start_time": "2022-05-24T13:57:47.899470",
     "status": "completed"
    },
    "tags": []
   },
   "source": [
    "# Question 2\n",
    "\n",
    "You are thinking about buying a home and want to get an idea of how much you will spend, based on the number of bedrooms and bathrooms.  You are trying to decide between four different options:\n",
    "- Option 1: house with two bedrooms and three bathrooms\n",
    "- Option 2: house with three bedrooms and two bathrooms\n",
    "- Option 3: house with three bedrooms and three bathrooms\n",
    "- Option 4: house with three bedrooms and four bathrooms\n",
    "\n",
    "Use the `get_expected_cost()` function you defined in question 1 to set `option_1`, `option_2`, `option_3`, and `option_4` to the expected cost of each option."
   ]
  },
  {
   "cell_type": "code",
   "execution_count": 4,
   "id": "55719cf5",
   "metadata": {
    "execution": {
     "iopub.execute_input": "2022-05-24T13:57:47.979405Z",
     "iopub.status.busy": "2022-05-24T13:57:47.978965Z",
     "iopub.status.idle": "2022-05-24T13:57:47.991656Z",
     "shell.execute_reply": "2022-05-24T13:57:47.990579Z"
    },
    "papermill": {
     "duration": 0.043211,
     "end_time": "2022-05-24T13:57:47.994522",
     "exception": false,
     "start_time": "2022-05-24T13:57:47.951311",
     "status": "completed"
    },
    "tags": []
   },
   "outputs": [
    {
     "name": "stdout",
     "output_type": "stream",
     "text": [
      "170000\n",
      "190000\n",
      "200000\n",
      "210000\n"
     ]
    },
    {
     "data": {
      "application/javascript": [
       "parent.postMessage({\"jupyterEvent\": \"custom.exercise_interaction\", \"data\": {\"outcomeType\": 1, \"valueTowardsCompletion\": 0.2, \"interactionType\": 1, \"questionType\": 1, \"questionId\": \"2_RunGetExpectedCost\", \"learnToolsVersion\": \"0.3.4\", \"failureMessage\": \"\", \"exceptionClass\": \"\", \"trace\": \"\"}}, \"*\")"
      ],
      "text/plain": [
       "<IPython.core.display.Javascript object>"
      ]
     },
     "metadata": {},
     "output_type": "display_data"
    },
    {
     "data": {
      "text/markdown": [
       "<span style=\"color:#33cc33\">Correct</span>"
      ],
      "text/plain": [
       "Correct"
      ]
     },
     "metadata": {},
     "output_type": "display_data"
    }
   ],
   "source": [
    "# TODO: Use the get_expected_cost function to fill in each value\n",
    "\n",
    "option_one = (80000) + (30000 * 2) + (10000 * 3)\n",
    "option_two = (80000) + (30000 * 3) + (10000 * 2)\n",
    "option_three = (80000) + (30000 * 3) + (10000 * 3)\n",
    "option_four = (80000) + (30000 * 3) + (10000 * 4)\n",
    "\n",
    "print(option_one)\n",
    "print(option_two)\n",
    "print(option_three)\n",
    "print(option_four)\n",
    "\n",
    "# Check your answer\n",
    "q2.check()"
   ]
  },
  {
   "cell_type": "code",
   "execution_count": 5,
   "id": "040f2bba",
   "metadata": {
    "execution": {
     "iopub.execute_input": "2022-05-24T13:57:48.054139Z",
     "iopub.status.busy": "2022-05-24T13:57:48.053801Z",
     "iopub.status.idle": "2022-05-24T13:57:48.057414Z",
     "shell.execute_reply": "2022-05-24T13:57:48.056656Z"
    },
    "papermill": {
     "duration": 0.036982,
     "end_time": "2022-05-24T13:57:48.059367",
     "exception": false,
     "start_time": "2022-05-24T13:57:48.022385",
     "status": "completed"
    },
    "tags": []
   },
   "outputs": [],
   "source": [
    "# Uncomment to see a hint\n",
    "#q2.hint()\n",
    "\n",
    "# Uncomment to view the solution\n",
    "#q2.solution()"
   ]
  },
  {
   "cell_type": "markdown",
   "id": "1d794784",
   "metadata": {
    "papermill": {
     "duration": 0.027864,
     "end_time": "2022-05-24T13:57:48.115216",
     "exception": false,
     "start_time": "2022-05-24T13:57:48.087352",
     "status": "completed"
    },
    "tags": []
   },
   "source": [
    "# Question 3\n",
    "\n",
    "You're a home decorator, and you'd like to use Python to streamline some of your work.  Specifically, you're creating a tool that you intend to use to calculate the cost of painting a room.\n",
    "\n",
    "As a first step, define a function `get_cost()` that takes as input:\n",
    "- `sqft_walls` = total square feet of walls to be painted\n",
    "- `sqft_ceiling` = square feet of ceiling to be painted\n",
    "- `sqft_per_gallon` = number of square feet that you can cover with one gallon of paint\n",
    "- `cost_per_gallon` = cost (in dollars) of one gallon of paint\n",
    "\n",
    "It should return the cost (in dollars) of putting one coat of paint on all walls and the ceiling.  Assume you can buy the exact amount of paint that you need, so you can buy partial gallons (e.g., if you need 7.523 gallons, you can buy that exact amount, instead of needing to buy 8 gallons and waste some paint).  Do not round your answer."
   ]
  },
  {
   "cell_type": "code",
   "execution_count": 6,
   "id": "de66a830",
   "metadata": {
    "execution": {
     "iopub.execute_input": "2022-05-24T13:57:48.173236Z",
     "iopub.status.busy": "2022-05-24T13:57:48.172581Z",
     "iopub.status.idle": "2022-05-24T13:57:48.181926Z",
     "shell.execute_reply": "2022-05-24T13:57:48.180836Z"
    },
    "papermill": {
     "duration": 0.04078,
     "end_time": "2022-05-24T13:57:48.184757",
     "exception": false,
     "start_time": "2022-05-24T13:57:48.143977",
     "status": "completed"
    },
    "tags": []
   },
   "outputs": [
    {
     "data": {
      "application/javascript": [
       "parent.postMessage({\"jupyterEvent\": \"custom.exercise_interaction\", \"data\": {\"outcomeType\": 1, \"valueTowardsCompletion\": 0.2, \"interactionType\": 1, \"questionType\": 2, \"questionId\": \"3_GetCostPaint\", \"learnToolsVersion\": \"0.3.4\", \"failureMessage\": \"\", \"exceptionClass\": \"\", \"trace\": \"\"}}, \"*\")"
      ],
      "text/plain": [
       "<IPython.core.display.Javascript object>"
      ]
     },
     "metadata": {},
     "output_type": "display_data"
    },
    {
     "data": {
      "text/markdown": [
       "<span style=\"color:#33cc33\">Correct</span>"
      ],
      "text/plain": [
       "Correct"
      ]
     },
     "metadata": {},
     "output_type": "display_data"
    }
   ],
   "source": [
    "# TODO: Finish defining the function\n",
    "def get_cost(sqft_walls, sqft_ceiling, sqft_per_gallon, cost_per_gallon):\n",
    "    total_sqft = sqft_walls + sqft_ceiling\n",
    "    gallons_needed = total_sqft / sqft_per_gallon \n",
    "    cost =   gallons_needed * cost_per_gallon\n",
    "    return cost\n",
    "\n",
    "# Check your answer\n",
    "q3.check()"
   ]
  },
  {
   "cell_type": "code",
   "execution_count": 7,
   "id": "25ef7d9f",
   "metadata": {
    "execution": {
     "iopub.execute_input": "2022-05-24T13:57:48.245086Z",
     "iopub.status.busy": "2022-05-24T13:57:48.244799Z",
     "iopub.status.idle": "2022-05-24T13:57:48.248270Z",
     "shell.execute_reply": "2022-05-24T13:57:48.247464Z"
    },
    "papermill": {
     "duration": 0.035761,
     "end_time": "2022-05-24T13:57:48.250421",
     "exception": false,
     "start_time": "2022-05-24T13:57:48.214660",
     "status": "completed"
    },
    "tags": []
   },
   "outputs": [],
   "source": [
    "# Uncomment to see a hint\n",
    "#q3.hint()\n",
    "\n",
    "# Uncomment to view the solution\n",
    "#q3.solution()"
   ]
  },
  {
   "cell_type": "markdown",
   "id": "b93cf9f6",
   "metadata": {
    "papermill": {
     "duration": 0.029928,
     "end_time": "2022-05-24T13:57:48.309712",
     "exception": false,
     "start_time": "2022-05-24T13:57:48.279784",
     "status": "completed"
    },
    "tags": []
   },
   "source": [
    "# Question 4\n",
    "\n",
    "Use the `get_cost()` function you defined in Question 3 to calculate the cost of applying one coat of paint to a room with:\n",
    "- 432 square feet of walls, and\n",
    "- 144 square feet of ceiling.\n",
    "\n",
    "Assume that one gallon of paint covers 400 square feet and costs $15.  As in Question 3, assume you can buy partial gallons of paint.  Do not round your answer."
   ]
  },
  {
   "cell_type": "code",
   "execution_count": 8,
   "id": "c67f4277",
   "metadata": {
    "execution": {
     "iopub.execute_input": "2022-05-24T13:57:48.370990Z",
     "iopub.status.busy": "2022-05-24T13:57:48.370711Z",
     "iopub.status.idle": "2022-05-24T13:57:48.377715Z",
     "shell.execute_reply": "2022-05-24T13:57:48.376972Z"
    },
    "papermill": {
     "duration": 0.040679,
     "end_time": "2022-05-24T13:57:48.379788",
     "exception": false,
     "start_time": "2022-05-24T13:57:48.339109",
     "status": "completed"
    },
    "tags": []
   },
   "outputs": [
    {
     "data": {
      "application/javascript": [
       "parent.postMessage({\"jupyterEvent\": \"custom.exercise_interaction\", \"data\": {\"outcomeType\": 1, \"valueTowardsCompletion\": 0.2, \"interactionType\": 1, \"questionType\": 1, \"questionId\": \"4_GetCostPaintExample\", \"learnToolsVersion\": \"0.3.4\", \"failureMessage\": \"\", \"exceptionClass\": \"\", \"trace\": \"\"}}, \"*\")"
      ],
      "text/plain": [
       "<IPython.core.display.Javascript object>"
      ]
     },
     "metadata": {},
     "output_type": "display_data"
    },
    {
     "data": {
      "text/markdown": [
       "<span style=\"color:#33cc33\">Correct</span>"
      ],
      "text/plain": [
       "Correct"
      ]
     },
     "metadata": {},
     "output_type": "display_data"
    }
   ],
   "source": [
    "# TODO: Set the project_cost variable to the cost of the project\n",
    "\n",
    "project_cost = (576/400) * 15\n",
    "\n",
    "# Check your answer\n",
    "q4.check()"
   ]
  },
  {
   "cell_type": "code",
   "execution_count": 9,
   "id": "927dbc92",
   "metadata": {
    "execution": {
     "iopub.execute_input": "2022-05-24T13:57:48.444056Z",
     "iopub.status.busy": "2022-05-24T13:57:48.443484Z",
     "iopub.status.idle": "2022-05-24T13:57:48.447400Z",
     "shell.execute_reply": "2022-05-24T13:57:48.446498Z"
    },
    "papermill": {
     "duration": 0.037589,
     "end_time": "2022-05-24T13:57:48.449698",
     "exception": false,
     "start_time": "2022-05-24T13:57:48.412109",
     "status": "completed"
    },
    "tags": []
   },
   "outputs": [],
   "source": [
    "# Uncomment to see a hint\n",
    "#q4.hint()\n",
    "\n",
    "# Uncomment to view the solution\n",
    "#q4.solution()"
   ]
  },
  {
   "cell_type": "markdown",
   "id": "4278b352",
   "metadata": {
    "papermill": {
     "duration": 0.042461,
     "end_time": "2022-05-24T13:57:48.534580",
     "exception": false,
     "start_time": "2022-05-24T13:57:48.492119",
     "status": "completed"
    },
    "tags": []
   },
   "source": [
    "# 🌶️ Question 5\n",
    "\n",
    "Now say you can no longer buy fractions of a gallon.  (For instance, if you need 4.3 gallons to do a project, then you have to buy 5 gallons of paint.)\n",
    "\n",
    "With this new scenario, you will create a new function `get_actual_cost` that uses the same inputs and calculates the cost of your project.\n",
    "\n",
    "One function that you'll need to use to do this is `math.ceil()`.  We demonstrate usage of this function in the code cell below.  It takes as a number as input and rounds the number up to the nearest integer.  \n",
    "\n",
    "Run the next code cell to test this function for yourself.  Feel free to change the value of `test_value` and make sure `math.ceil()` returns the number you expect."
   ]
  },
  {
   "cell_type": "code",
   "execution_count": 10,
   "id": "31bd57ae",
   "metadata": {
    "execution": {
     "iopub.execute_input": "2022-05-24T13:57:48.609149Z",
     "iopub.status.busy": "2022-05-24T13:57:48.608823Z",
     "iopub.status.idle": "2022-05-24T13:57:48.614811Z",
     "shell.execute_reply": "2022-05-24T13:57:48.613848Z"
    },
    "papermill": {
     "duration": 0.043597,
     "end_time": "2022-05-24T13:57:48.616834",
     "exception": false,
     "start_time": "2022-05-24T13:57:48.573237",
     "status": "completed"
    },
    "tags": []
   },
   "outputs": [
    {
     "name": "stdout",
     "output_type": "stream",
     "text": [
      "3\n"
     ]
    }
   ],
   "source": [
    "test_value = 2.17\n",
    "\n",
    "rounded_value = math.ceil(test_value)\n",
    "print(rounded_value)"
   ]
  },
  {
   "cell_type": "markdown",
   "id": "2dd08b7d",
   "metadata": {
    "papermill": {
     "duration": 0.031919,
     "end_time": "2022-05-24T13:57:48.680802",
     "exception": false,
     "start_time": "2022-05-24T13:57:48.648883",
     "status": "completed"
    },
    "tags": []
   },
   "source": [
    "Use the next code cell to define the function `get_actual_cost()`.  You'll need to use the `math.ceil()` function to do this.\n",
    "\n",
    "When answering this question, note that it's completely valid to define a function that makes use of another function.  For instance, we can define a function `round_up_and_divide_by_three` that makes use of the `math.ceil` function:\n",
    "```\n",
    "def round_up_and_divide_by_three(num):\n",
    "    new_value = math.ceil(num)\n",
    "    final_value = new_value / 3\n",
    "    return final_value\n",
    "```"
   ]
  },
  {
   "cell_type": "code",
   "execution_count": 11,
   "id": "de842081",
   "metadata": {
    "execution": {
     "iopub.execute_input": "2022-05-24T13:57:48.746645Z",
     "iopub.status.busy": "2022-05-24T13:57:48.745661Z",
     "iopub.status.idle": "2022-05-24T13:57:48.754510Z",
     "shell.execute_reply": "2022-05-24T13:57:48.753813Z"
    },
    "papermill": {
     "duration": 0.043741,
     "end_time": "2022-05-24T13:57:48.756647",
     "exception": false,
     "start_time": "2022-05-24T13:57:48.712906",
     "status": "completed"
    },
    "tags": []
   },
   "outputs": [
    {
     "data": {
      "application/javascript": [
       "parent.postMessage({\"jupyterEvent\": \"custom.exercise_interaction\", \"data\": {\"outcomeType\": 1, \"valueTowardsCompletion\": 0.2, \"interactionType\": 1, \"questionType\": 2, \"questionId\": \"5_NoMoreFractions\", \"learnToolsVersion\": \"0.3.4\", \"failureMessage\": \"\", \"exceptionClass\": \"\", \"trace\": \"\"}}, \"*\")"
      ],
      "text/plain": [
       "<IPython.core.display.Javascript object>"
      ]
     },
     "metadata": {},
     "output_type": "display_data"
    },
    {
     "data": {
      "text/markdown": [
       "<span style=\"color:#33cc33\">Correct</span>"
      ],
      "text/plain": [
       "Correct"
      ]
     },
     "metadata": {},
     "output_type": "display_data"
    }
   ],
   "source": [
    "def get_actual_cost(sqft_walls, sqft_ceiling, sqft_per_gallon, cost_per_gallon):\n",
    "    total_sqft = sqft_walls + sqft_ceiling\n",
    "    gallons_needed = total_sqft / sqft_per_gallon\n",
    "    gallons_to_buy = math.ceil(gallons_needed)\n",
    "    cost = cost_per_gallon * gallons_to_buy\n",
    "    return cost\n",
    "\n",
    "# Check your answer\n",
    "q5.check()"
   ]
  },
  {
   "cell_type": "code",
   "execution_count": 12,
   "id": "165ca30d",
   "metadata": {
    "execution": {
     "iopub.execute_input": "2022-05-24T13:57:48.825550Z",
     "iopub.status.busy": "2022-05-24T13:57:48.825078Z",
     "iopub.status.idle": "2022-05-24T13:57:48.828257Z",
     "shell.execute_reply": "2022-05-24T13:57:48.827528Z"
    },
    "papermill": {
     "duration": 0.039671,
     "end_time": "2022-05-24T13:57:48.830223",
     "exception": false,
     "start_time": "2022-05-24T13:57:48.790552",
     "status": "completed"
    },
    "tags": []
   },
   "outputs": [],
   "source": [
    "# Uncomment to see a hint\n",
    "#q5.hint()\n",
    "\n",
    "# Uncomment to view the solution\n",
    "#q5.solution()"
   ]
  },
  {
   "cell_type": "markdown",
   "id": "27671c5b",
   "metadata": {
    "papermill": {
     "duration": 0.03289,
     "end_time": "2022-05-24T13:57:48.895828",
     "exception": false,
     "start_time": "2022-05-24T13:57:48.862938",
     "status": "completed"
    },
    "tags": []
   },
   "source": [
    "Once your function is verified as correct, run the next code cell to calculate the updated cost of your project."
   ]
  },
  {
   "cell_type": "code",
   "execution_count": 13,
   "id": "b7f1efd4",
   "metadata": {
    "execution": {
     "iopub.execute_input": "2022-05-24T13:57:48.962805Z",
     "iopub.status.busy": "2022-05-24T13:57:48.962337Z",
     "iopub.status.idle": "2022-05-24T13:57:48.967924Z",
     "shell.execute_reply": "2022-05-24T13:57:48.967318Z"
    },
    "papermill": {
     "duration": 0.041191,
     "end_time": "2022-05-24T13:57:48.969894",
     "exception": false,
     "start_time": "2022-05-24T13:57:48.928703",
     "status": "completed"
    },
    "tags": []
   },
   "outputs": [
    {
     "data": {
      "text/plain": [
       "30"
      ]
     },
     "execution_count": 13,
     "metadata": {},
     "output_type": "execute_result"
    }
   ],
   "source": [
    "get_actual_cost(432, 144, 400, 15) "
   ]
  },
  {
   "cell_type": "markdown",
   "id": "586285e7",
   "metadata": {
    "papermill": {
     "duration": 0.035728,
     "end_time": "2022-05-24T13:57:49.038989",
     "exception": false,
     "start_time": "2022-05-24T13:57:49.003261",
     "status": "completed"
    },
    "tags": []
   },
   "source": [
    "Say you're working with a slightly larger room.  Run the next code cell to calculate the cost of the project."
   ]
  },
  {
   "cell_type": "code",
   "execution_count": 14,
   "id": "3d31fc5a",
   "metadata": {
    "execution": {
     "iopub.execute_input": "2022-05-24T13:57:49.105533Z",
     "iopub.status.busy": "2022-05-24T13:57:49.105047Z",
     "iopub.status.idle": "2022-05-24T13:57:49.110140Z",
     "shell.execute_reply": "2022-05-24T13:57:49.109455Z"
    },
    "papermill": {
     "duration": 0.040926,
     "end_time": "2022-05-24T13:57:49.112160",
     "exception": false,
     "start_time": "2022-05-24T13:57:49.071234",
     "status": "completed"
    },
    "tags": []
   },
   "outputs": [
    {
     "data": {
      "text/plain": [
       "45"
      ]
     },
     "execution_count": 14,
     "metadata": {},
     "output_type": "execute_result"
    }
   ],
   "source": [
    "get_actual_cost(594, 288, 400, 15) "
   ]
  },
  {
   "cell_type": "markdown",
   "id": "0ae0ce43",
   "metadata": {
    "papermill": {
     "duration": 0.032482,
     "end_time": "2022-05-24T13:57:49.177159",
     "exception": false,
     "start_time": "2022-05-24T13:57:49.144677",
     "status": "completed"
    },
    "tags": []
   },
   "source": [
    "# Keep going\n",
    "\n",
    "Continue to learn about **[data types](https://www.kaggle.com/alexisbcook/data-types)**."
   ]
  },
  {
   "cell_type": "markdown",
   "id": "fc452e42",
   "metadata": {
    "papermill": {
     "duration": 0.033806,
     "end_time": "2022-05-24T13:57:49.246643",
     "exception": false,
     "start_time": "2022-05-24T13:57:49.212837",
     "status": "completed"
    },
    "tags": []
   },
   "source": [
    "---\n",
    "\n",
    "\n",
    "\n",
    "\n",
    "*Have questions or comments? Visit the [course discussion forum](https://www.kaggle.com/learn/intro-to-programming/discussion) to chat with other learners.*"
   ]
  }
 ],
 "metadata": {
  "kernelspec": {
   "display_name": "Python 3",
   "language": "python",
   "name": "python3"
  },
  "language_info": {
   "codemirror_mode": {
    "name": "ipython",
    "version": 3
   },
   "file_extension": ".py",
   "mimetype": "text/x-python",
   "name": "python",
   "nbconvert_exporter": "python",
   "pygments_lexer": "ipython3",
   "version": "3.7.12"
  },
  "papermill": {
   "default_parameters": {},
   "duration": 12.257957,
   "end_time": "2022-05-24T13:57:49.902415",
   "environment_variables": {},
   "exception": null,
   "input_path": "__notebook__.ipynb",
   "output_path": "__notebook__.ipynb",
   "parameters": {},
   "start_time": "2022-05-24T13:57:37.644458",
   "version": "2.3.4"
  }
 },
 "nbformat": 4,
 "nbformat_minor": 5
}
